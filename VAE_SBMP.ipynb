{
 "cells": [
  {
   "cell_type": "code",
   "execution_count": 1,
   "id": "89d5af60",
   "metadata": {},
   "outputs": [],
   "source": [
    "import torch\n",
    "import torch.nn as nn\n",
    "import torch.optim as optim\n",
    "from torch.autograd import Variable\n",
    "import math\n",
    "import matplotlib.pyplot as plt\n",
    "import pandas as pd\n",
    "from torch.utils.data import DataLoader\n",
    "from torch.optim import Adam\n",
    "\n",
    "device = torch.device(\"cuda\" if torch.cuda.is_available() else \"cpu\")"
   ]
  },
  {
   "cell_type": "code",
   "execution_count": 100,
   "id": "55de7555",
   "metadata": {},
   "outputs": [],
   "source": [
    "import math\n",
    "\n",
    "def sigmoid(x):\n",
    "    return 1 / (1 + math.exp(-x))"
   ]
  },
  {
   "cell_type": "code",
   "execution_count": 102,
   "id": "ff3a8a0d",
   "metadata": {},
   "outputs": [],
   "source": [
    "class VAE(nn.Module):\n",
    "    def __init__(self, input_dim, hidden_dim, latent_dim, device=device):\n",
    "        super(VAE, self).__init__()\n",
    "\n",
    "        # encoder - THIS CAN BE MESSED AROUND WITH\n",
    "        self.encoder = nn.Sequential(\n",
    "            nn.Linear(input_dim, hidden_dim),\n",
    "            nn.LeakyReLU(0.2),\n",
    "            nn.Linear(hidden_dim, latent_dim),\n",
    "            nn.LeakyReLU(0.2)\n",
    "            )\n",
    "        \n",
    "        # latent mean and variance \n",
    "        self.mean_layer = nn.Linear(latent_dim, latent_dim)\n",
    "        self.logvar_layer = nn.Linear(latent_dim, latent_dim)\n",
    "        \n",
    "        # decoder - THIS CAN ALSO BE MESSED AROUND WITH\n",
    "        self.point_decoder = nn.Sequential(\n",
    "            nn.Linear(latent_dim, latent_dim),\n",
    "            nn.LeakyReLU(0.2),\n",
    "            nn.Linear(latent_dim, hidden_dim),\n",
    "            nn.LeakyReLU(0.2),\n",
    "            nn.Linear(hidden_dim, input_dim)\n",
    "            )\n",
    "        \n",
    "        # CLASS decoder - THIS CAN ALSO BE MESSED AROUND WITH. This is to decode (predict) whether the pt is in collision or not.\n",
    "        self.label_decoder = nn.Sequential(\n",
    "            nn.Linear(latent_dim, latent_dim),\n",
    "            nn.LeakyReLU(0.2),\n",
    "            nn.Linear(latent_dim, hidden_dim),\n",
    "            nn.LeakyReLU(0.2),\n",
    "            nn.Linear(hidden_dim, 1), # just decoding 1 thing here: collision or not\n",
    "            nn.Sigmoid() # make the prediction a probability\n",
    "            )\n",
    "     \n",
    "    def encode(self, x):\n",
    "        x = self.encoder(x)\n",
    "        mean, logvar = self.mean_layer(x), self.logvar_layer(x)\n",
    "        return mean, logvar\n",
    "\n",
    "    def reparameterization(self, mean, var):\n",
    "        epsilon = torch.randn_like(var).to(device)      \n",
    "        z = mean + var*epsilon\n",
    "        return z\n",
    "\n",
    "    #def decode(self, x):\n",
    "    #    return self.decoder(x)\n",
    "\n",
    "    def forward(self, x):\n",
    "        mean, logvar = self.encode(x)\n",
    "        z = self.reparameterization(mean, logvar)\n",
    "        #x_hat = self.decode(z)\n",
    "        x_hat = self.point_decoder(z)\n",
    "        x_hat[2] = sigmoid(x_hat[2])\n",
    "        x_hat[0] = (sigmoid(x_hat[0]) - 0.5)*2*math.pi\n",
    "        x_hat[1] = (sigmoid(x_hat[1]) - 0.5)*2*math.pi\n",
    "        #label_hat = self.label_decoder(z)\n",
    "        return x_hat, mean, logvar"
   ]
  },
  {
   "cell_type": "code",
   "execution_count": 19,
   "id": "27b0ff30",
   "metadata": {},
   "outputs": [
    {
     "data": {
      "text/plain": [
       "(tensor([[ 0.6010,  0.3273, -0.4814],\n",
       "         [ 0.6849,  0.2926, -0.5046]], grad_fn=<AddmmBackward0>),\n",
       " tensor([[-0.3423,  0.0722],\n",
       "         [-0.3417,  0.0729]], grad_fn=<AddmmBackward0>),\n",
       " tensor([[-0.2230, -0.2775],\n",
       "         [-0.2224, -0.2779]], grad_fn=<AddmmBackward0>))"
      ]
     },
     "execution_count": 19,
     "metadata": {},
     "output_type": "execute_result"
    }
   ],
   "source": [
    "model = VAE(3,3,2)\n",
    "model(train_data[0:2])"
   ]
  },
  {
   "cell_type": "code",
   "execution_count": 3,
   "id": "d6f5c62a",
   "metadata": {},
   "outputs": [],
   "source": [
    "def is_collision_free(x,y):\n",
    "    columns = []\n",
    "    columns.append(((-math.pi/2 - 0.2, -math.pi/2 + 0.2),(-0.1,0.1)))\n",
    "    columns.append(((-0.2, 0.2),(-1.1,-0.9)))\n",
    "    columns.append(((math.pi/2 - 0.2, math.pi/2 + 0.2),(0.9,1.1)))\n",
    "    if x <= -math.pi or x > math.pi or y <= -math.pi or y > math.pi:\n",
    "        raise Exception(\"point needs to be in [-pi,pi] x [-pi,pi]\")\n",
    "    for column in columns:\n",
    "        in_x_col = x >= column[0][0] and x <= column[0][1]\n",
    "        in_y_op = y > column[1][0] and y < column[1][1]\n",
    "        if in_x_col and not in_y_op:\n",
    "            return False\n",
    "    return True"
   ]
  },
  {
   "cell_type": "code",
   "execution_count": 4,
   "id": "f00c1d24",
   "metadata": {},
   "outputs": [
    {
     "data": {
      "text/plain": [
       "tensor(True)"
      ]
     },
     "execution_count": 4,
     "metadata": {},
     "output_type": "execute_result"
    }
   ],
   "source": [
    "torch.isinf(torch.tensor(float('inf')))"
   ]
  },
  {
   "cell_type": "code",
   "execution_count": 93,
   "id": "c13c374f",
   "metadata": {},
   "outputs": [],
   "source": [
    "def loss_function(x, x_hat, mean, log_var, alpha = 1, beta = 1):\n",
    "    # alpha and beta are parameters to determine how much to weight Euclidean distance and correct classification\n",
    "    \n",
    "    for i in range(len(x_hat)):\n",
    "        if i < len(x_hat) - 1:\n",
    "            if x_hat[i] > math.pi or x_hat[i] <= -math.pi:\n",
    "                return 1e6\n",
    "        else:\n",
    "            if x_hat[i] < 0 or x_hat[i] > 1:\n",
    "                return 1e6\n",
    "    \n",
    "    # Euclidean reconstruction loss\n",
    "    dist = torch.sqrt(torch.sum((x_hat - x)**2)) # Euclidean distance\n",
    "    reconstruction_loss = alpha*dist\n",
    "    \n",
    "    # BCE label loss\n",
    "    #label = is_collision_free(x) # or label(x)\n",
    "    #pred = COLLISIONCHECKER(x_hat)\n",
    "    \n",
    "    # need probabilities that it is collision and not collision. So we need a collision predictor\n",
    "    # IDEA: make the COLLISIONCHECKER function a neural network classifier so that we can backprop.\n",
    "    \n",
    "    #label_loss = beta*nn.functional.binary_cross_entropy(label, label_hat, reduction='sum')\n",
    "    \n",
    "    # KL divergence loss\n",
    "    KLD = -0.5 * torch.sum(1 + log_var - mean.pow(2) - log_var.exp())\n",
    "\n",
    "    #return reconstruction_loss + label_loss + KLD\n",
    "    return torch.tensor(reconstruction_loss + KLD)"
   ]
  },
  {
   "cell_type": "code",
   "execution_count": 6,
   "id": "6ba2a400",
   "metadata": {},
   "outputs": [
    {
     "data": {
      "text/plain": [
       "True"
      ]
     },
     "execution_count": 6,
     "metadata": {},
     "output_type": "execute_result"
    }
   ],
   "source": [
    "is_collision_free(2.5,3)"
   ]
  },
  {
   "cell_type": "code",
   "execution_count": 7,
   "id": "e7cb5bc6",
   "metadata": {},
   "outputs": [
    {
     "data": {
      "text/plain": [
       "<matplotlib.collections.PathCollection at 0x7fcb969ed300>"
      ]
     },
     "execution_count": 7,
     "metadata": {},
     "output_type": "execute_result"
    },
    {
     "data": {
      "image/png": "[encoded data removed]",
      "text/plain": [
       "<Figure size 640x480 with 1 Axes>"
      ]
     },
     "metadata": {},
     "output_type": "display_data"
    }
   ],
   "source": [
    "num_samples = 500\n",
    "\n",
    "x_values = [ math.pi * (n/num_samples) - math.pi * (1-n/num_samples) for n in range(1,num_samples+1)]\n",
    "y_values = x_values\n",
    "value_grid = []\n",
    "for y in y_values:\n",
    "    y_section = [(x,y,is_collision_free(x,y)) for x in x_values]\n",
    "    value_grid.append(y_section)\n",
    "\n",
    "x_collisions = []\n",
    "y_collisions = []\n",
    "for y_row in value_grid:\n",
    "    for entry in y_row:\n",
    "        if not entry[2]:\n",
    "            x_collisions.append(entry[0])\n",
    "            y_collisions.append(entry[1])\n",
    "plt.scatter(x_collisions, y_collisions, s =5)\n",
    "plt.scatter([-3.1415,-3.1415, 3.1415,3.1415], [-3.1415,3.1415,-3.1415,3.1415], s = 1)"
   ]
  },
  {
   "cell_type": "code",
   "execution_count": 8,
   "id": "905b4ce3",
   "metadata": {},
   "outputs": [
    {
     "data": {
      "text/plain": [
       "500"
      ]
     },
     "execution_count": 8,
     "metadata": {},
     "output_type": "execute_result"
    }
   ],
   "source": [
    "len(value_grid[0])"
   ]
  },
  {
   "cell_type": "code",
   "execution_count": 9,
   "id": "0aae9fd2",
   "metadata": {},
   "outputs": [],
   "source": [
    "train_data = [value_grid[i][j] for i in range(500) for j in range(500)]\n",
    "train_data = torch.tensor(train_data)"
   ]
  },
  {
   "cell_type": "code",
   "execution_count": 10,
   "id": "f83dc510",
   "metadata": {},
   "outputs": [
    {
     "data": {
      "text/plain": [
       "torch.Size([250000, 3])"
      ]
     },
     "execution_count": 10,
     "metadata": {},
     "output_type": "execute_result"
    }
   ],
   "source": [
    "train_data.shape"
   ]
  },
  {
   "cell_type": "code",
   "execution_count": 13,
   "id": "82bb9520",
   "metadata": {},
   "outputs": [
    {
     "name": "stdout",
     "output_type": "stream",
     "text": [
      "(0, tensor([-3.1290, -3.1290,  1.0000]))\n"
     ]
    }
   ],
   "source": [
    "for elt in enumerate(train_data):\n",
    "    print(elt)\n",
    "    break"
   ]
  },
  {
   "cell_type": "code",
   "execution_count": 14,
   "id": "c0834f40",
   "metadata": {},
   "outputs": [],
   "source": [
    "batch_size = 1000"
   ]
  },
  {
   "cell_type": "code",
   "execution_count": 15,
   "id": "4440a5ff",
   "metadata": {},
   "outputs": [],
   "source": [
    "train_loader = DataLoader(dataset = train_data, batch_size = batch_size, shuffle = True)"
   ]
  },
  {
   "cell_type": "code",
   "execution_count": 16,
   "id": "a27ab538",
   "metadata": {},
   "outputs": [
    {
     "name": "stdout",
     "output_type": "stream",
     "text": [
      "0 tensor([[ 2.1237,  2.7520,  1.0000],\n",
      "        [-0.5278,  0.6786,  1.0000],\n",
      "        [-1.3195,  2.3876,  1.0000],\n",
      "        ...,\n",
      "        [-1.5834, -0.5655,  0.0000],\n",
      "        [ 2.0358, -1.7844,  1.0000],\n",
      "        [ 1.6211,  2.9782,  0.0000]])\n"
     ]
    }
   ],
   "source": [
    "for batch_idx, batch in enumerate(train_loader):\n",
    "    print(batch_idx, batch)\n",
    "    break"
   ]
  },
  {
   "cell_type": "code",
   "execution_count": 89,
   "id": "bfaab90e",
   "metadata": {},
   "outputs": [],
   "source": [
    "def train(model, optimizer, epochs, device):\n",
    "    model.train()\n",
    "    for epoch in range(epochs):\n",
    "        overall_loss_float = 0.\n",
    "        for batch_idx, batch in enumerate(train_loader):\n",
    "            #x = x.view(batch_size, x_dim).to(device)\n",
    "            \n",
    "            optimizer.zero_grad()\n",
    "            \n",
    "            batch_output = model(batch)\n",
    "\n",
    "            x_hats, means, log_vars = batch_output[0], batch_output[1], batch_output[2] \n",
    "            loss = torch.tensor(0.)\n",
    "            for i in range(batch_size):\n",
    "                x_hat, mean, log_var = x_hats[i], means[i], log_vars[i]\n",
    "                loss += loss_function(batch[i], x_hat, mean, log_var)\n",
    "                #print(type(loss))\n",
    "            \n",
    "            overall_loss_float += loss\n",
    "            \n",
    "        overall_loss = torch.tensor(overall_loss_float, requires_grad = True)\n",
    "        overall_loss.backward()\n",
    "        optimizer.step()\n",
    "\n",
    "        print(\"\\tEpoch\", epoch + 1, \"\\tAverage Loss: \", overall_loss/(batch_idx*batch_size))\n",
    "    return overall_loss"
   ]
  },
  {
   "cell_type": "code",
   "execution_count": 90,
   "id": "cdc52cd3",
   "metadata": {},
   "outputs": [
    {
     "data": {
      "text/plain": [
       "False"
      ]
     },
     "execution_count": 90,
     "metadata": {},
     "output_type": "execute_result"
    }
   ],
   "source": [
    "torch.tensor(0.).requires_grad"
   ]
  },
  {
   "cell_type": "code",
   "execution_count": 103,
   "id": "7c2c1a1c",
   "metadata": {},
   "outputs": [
    {
     "ename": "ValueError",
     "evalue": "only one element tensors can be converted to Python scalars",
     "output_type": "error",
     "traceback": [
      "\u001b[0;31m---------------------------------------------------------------------------\u001b[0m",
      "\u001b[0;31mValueError\u001b[0m                                Traceback (most recent call last)",
      "Cell \u001b[0;32mIn[103], line 3\u001b[0m\n\u001b[1;32m      1\u001b[0m model \u001b[38;5;241m=\u001b[39m VAE(\u001b[38;5;241m3\u001b[39m,\u001b[38;5;241m3\u001b[39m,\u001b[38;5;241m2\u001b[39m)\n\u001b[1;32m      2\u001b[0m optimizer \u001b[38;5;241m=\u001b[39m Adam(model\u001b[38;5;241m.\u001b[39mparameters(), lr\u001b[38;5;241m=\u001b[39m\u001b[38;5;241m1e-1\u001b[39m)\n\u001b[0;32m----> 3\u001b[0m \u001b[43mtrain\u001b[49m\u001b[43m(\u001b[49m\u001b[43mmodel\u001b[49m\u001b[43m,\u001b[49m\u001b[43m \u001b[49m\u001b[43moptimizer\u001b[49m\u001b[43m,\u001b[49m\u001b[43m \u001b[49m\u001b[43mepochs\u001b[49m\u001b[38;5;241;43m=\u001b[39;49m\u001b[38;5;241;43m5\u001b[39;49m\u001b[43m,\u001b[49m\u001b[43m \u001b[49m\u001b[43mdevice\u001b[49m\u001b[38;5;241;43m=\u001b[39;49m\u001b[43mdevice\u001b[49m\u001b[43m)\u001b[49m\n",
      "Cell \u001b[0;32mIn[89], line 10\u001b[0m, in \u001b[0;36mtrain\u001b[0;34m(model, optimizer, epochs, device)\u001b[0m\n\u001b[1;32m      5\u001b[0m \u001b[38;5;28;01mfor\u001b[39;00m batch_idx, batch \u001b[38;5;129;01min\u001b[39;00m \u001b[38;5;28menumerate\u001b[39m(train_loader):\n\u001b[1;32m      6\u001b[0m     \u001b[38;5;66;03m#x = x.view(batch_size, x_dim).to(device)\u001b[39;00m\n\u001b[1;32m      8\u001b[0m     optimizer\u001b[38;5;241m.\u001b[39mzero_grad()\n\u001b[0;32m---> 10\u001b[0m     batch_output \u001b[38;5;241m=\u001b[39m \u001b[43mmodel\u001b[49m\u001b[43m(\u001b[49m\u001b[43mbatch\u001b[49m\u001b[43m)\u001b[49m\n\u001b[1;32m     12\u001b[0m     x_hats, means, log_vars \u001b[38;5;241m=\u001b[39m batch_output[\u001b[38;5;241m0\u001b[39m], batch_output[\u001b[38;5;241m1\u001b[39m], batch_output[\u001b[38;5;241m2\u001b[39m] \n\u001b[1;32m     13\u001b[0m     loss \u001b[38;5;241m=\u001b[39m torch\u001b[38;5;241m.\u001b[39mtensor(\u001b[38;5;241m0.\u001b[39m)\n",
      "File \u001b[0;32m/Applications/anaconda3/lib/python3.10/site-packages/torch/nn/modules/module.py:1518\u001b[0m, in \u001b[0;36mModule._wrapped_call_impl\u001b[0;34m(self, *args, **kwargs)\u001b[0m\n\u001b[1;32m   1516\u001b[0m     \u001b[38;5;28;01mreturn\u001b[39;00m \u001b[38;5;28mself\u001b[39m\u001b[38;5;241m.\u001b[39m_compiled_call_impl(\u001b[38;5;241m*\u001b[39margs, \u001b[38;5;241m*\u001b[39m\u001b[38;5;241m*\u001b[39mkwargs)  \u001b[38;5;66;03m# type: ignore[misc]\u001b[39;00m\n\u001b[1;32m   1517\u001b[0m \u001b[38;5;28;01melse\u001b[39;00m:\n\u001b[0;32m-> 1518\u001b[0m     \u001b[38;5;28;01mreturn\u001b[39;00m \u001b[38;5;28;43mself\u001b[39;49m\u001b[38;5;241;43m.\u001b[39;49m\u001b[43m_call_impl\u001b[49m\u001b[43m(\u001b[49m\u001b[38;5;241;43m*\u001b[39;49m\u001b[43margs\u001b[49m\u001b[43m,\u001b[49m\u001b[43m \u001b[49m\u001b[38;5;241;43m*\u001b[39;49m\u001b[38;5;241;43m*\u001b[39;49m\u001b[43mkwargs\u001b[49m\u001b[43m)\u001b[49m\n",
      "File \u001b[0;32m/Applications/anaconda3/lib/python3.10/site-packages/torch/nn/modules/module.py:1527\u001b[0m, in \u001b[0;36mModule._call_impl\u001b[0;34m(self, *args, **kwargs)\u001b[0m\n\u001b[1;32m   1522\u001b[0m \u001b[38;5;66;03m# If we don't have any hooks, we want to skip the rest of the logic in\u001b[39;00m\n\u001b[1;32m   1523\u001b[0m \u001b[38;5;66;03m# this function, and just call forward.\u001b[39;00m\n\u001b[1;32m   1524\u001b[0m \u001b[38;5;28;01mif\u001b[39;00m \u001b[38;5;129;01mnot\u001b[39;00m (\u001b[38;5;28mself\u001b[39m\u001b[38;5;241m.\u001b[39m_backward_hooks \u001b[38;5;129;01mor\u001b[39;00m \u001b[38;5;28mself\u001b[39m\u001b[38;5;241m.\u001b[39m_backward_pre_hooks \u001b[38;5;129;01mor\u001b[39;00m \u001b[38;5;28mself\u001b[39m\u001b[38;5;241m.\u001b[39m_forward_hooks \u001b[38;5;129;01mor\u001b[39;00m \u001b[38;5;28mself\u001b[39m\u001b[38;5;241m.\u001b[39m_forward_pre_hooks\n\u001b[1;32m   1525\u001b[0m         \u001b[38;5;129;01mor\u001b[39;00m _global_backward_pre_hooks \u001b[38;5;129;01mor\u001b[39;00m _global_backward_hooks\n\u001b[1;32m   1526\u001b[0m         \u001b[38;5;129;01mor\u001b[39;00m _global_forward_hooks \u001b[38;5;129;01mor\u001b[39;00m _global_forward_pre_hooks):\n\u001b[0;32m-> 1527\u001b[0m     \u001b[38;5;28;01mreturn\u001b[39;00m \u001b[43mforward_call\u001b[49m\u001b[43m(\u001b[49m\u001b[38;5;241;43m*\u001b[39;49m\u001b[43margs\u001b[49m\u001b[43m,\u001b[49m\u001b[43m \u001b[49m\u001b[38;5;241;43m*\u001b[39;49m\u001b[38;5;241;43m*\u001b[39;49m\u001b[43mkwargs\u001b[49m\u001b[43m)\u001b[49m\n\u001b[1;32m   1529\u001b[0m \u001b[38;5;28;01mtry\u001b[39;00m:\n\u001b[1;32m   1530\u001b[0m     result \u001b[38;5;241m=\u001b[39m \u001b[38;5;28;01mNone\u001b[39;00m\n",
      "Cell \u001b[0;32mIn[102], line 54\u001b[0m, in \u001b[0;36mVAE.forward\u001b[0;34m(self, x)\u001b[0m\n\u001b[1;32m     52\u001b[0m \u001b[38;5;66;03m#x_hat = self.decode(z)\u001b[39;00m\n\u001b[1;32m     53\u001b[0m x_hat \u001b[38;5;241m=\u001b[39m \u001b[38;5;28mself\u001b[39m\u001b[38;5;241m.\u001b[39mpoint_decoder(z)\n\u001b[0;32m---> 54\u001b[0m x_hat[\u001b[38;5;241m2\u001b[39m] \u001b[38;5;241m=\u001b[39m \u001b[43msigmoid\u001b[49m\u001b[43m(\u001b[49m\u001b[43mx_hat\u001b[49m\u001b[43m[\u001b[49m\u001b[38;5;241;43m2\u001b[39;49m\u001b[43m]\u001b[49m\u001b[43m)\u001b[49m\n\u001b[1;32m     55\u001b[0m x_hat[\u001b[38;5;241m0\u001b[39m] \u001b[38;5;241m=\u001b[39m (sigmoid(x_hat[\u001b[38;5;241m0\u001b[39m]) \u001b[38;5;241m-\u001b[39m \u001b[38;5;241m0.5\u001b[39m)\u001b[38;5;241m*\u001b[39m\u001b[38;5;241m2\u001b[39m\u001b[38;5;241m*\u001b[39mmath\u001b[38;5;241m.\u001b[39mpi\n\u001b[1;32m     56\u001b[0m x_hat[\u001b[38;5;241m1\u001b[39m] \u001b[38;5;241m=\u001b[39m (sigmoid(x_hat[\u001b[38;5;241m1\u001b[39m]) \u001b[38;5;241m-\u001b[39m \u001b[38;5;241m0.5\u001b[39m)\u001b[38;5;241m*\u001b[39m\u001b[38;5;241m2\u001b[39m\u001b[38;5;241m*\u001b[39mmath\u001b[38;5;241m.\u001b[39mpi\n",
      "Cell \u001b[0;32mIn[100], line 4\u001b[0m, in \u001b[0;36msigmoid\u001b[0;34m(x)\u001b[0m\n\u001b[1;32m      3\u001b[0m \u001b[38;5;28;01mdef\u001b[39;00m \u001b[38;5;21msigmoid\u001b[39m(x):\n\u001b[0;32m----> 4\u001b[0m     \u001b[38;5;28;01mreturn\u001b[39;00m \u001b[38;5;241m1\u001b[39m \u001b[38;5;241m/\u001b[39m (\u001b[38;5;241m1\u001b[39m \u001b[38;5;241m+\u001b[39m \u001b[43mmath\u001b[49m\u001b[38;5;241;43m.\u001b[39;49m\u001b[43mexp\u001b[49m\u001b[43m(\u001b[49m\u001b[38;5;241;43m-\u001b[39;49m\u001b[43mx\u001b[49m\u001b[43m)\u001b[49m)\n",
      "\u001b[0;31mValueError\u001b[0m: only one element tensors can be converted to Python scalars"
     ]
    }
   ],
   "source": [
    "model = VAE(3,3,2)\n",
    "optimizer = Adam(model.parameters(), lr=1e-1)\n",
    "train(model, optimizer, epochs=5, device=device)"
   ]
  },
  {
   "cell_type": "code",
   "execution_count": 96,
   "id": "a479f882",
   "metadata": {},
   "outputs": [
    {
     "data": {
      "text/plain": [
       "(tensor([-2.6515, -2.8777,  1.0000]),\n",
       " (tensor([0.1925, 0.6315, 0.1759], grad_fn=<ViewBackward0>),\n",
       "  tensor([ 0.0796, -0.4391], grad_fn=<ViewBackward0>),\n",
       "  tensor([-0.1793, -0.1845], grad_fn=<ViewBackward0>)))"
      ]
     },
     "execution_count": 96,
     "metadata": {},
     "output_type": "execute_result"
    }
   ],
   "source": [
    "batch[0], model(batch[0])"
   ]
  },
  {
   "cell_type": "code",
   "execution_count": null,
   "id": "3ebd7359",
   "metadata": {},
   "outputs": [],
   "source": [
    "def generate_digit(mean, var):\n",
    "    z_sample = torch.tensor([[mean, var]], dtype=torch.float).to(device)\n",
    "    x_decoded = model.decode(z_sample)\n",
    "    digit = x_decoded.detach().cpu().reshape(28, 28) # reshape vector to 2d array\n",
    "    plt.imshow(digit, cmap='gray')\n",
    "    plt.axis('off')\n",
    "    plt.show()\n",
    "\n",
    "generate_digit(0.0, 1.0), generate_digit(1.0, 0.0)"
   ]
  },
  {
   "cell_type": "markdown",
   "id": "bd9f7030",
   "metadata": {},
   "source": [
    "# Attempt with Autoencoder (non-variational)?"
   ]
  },
  {
   "cell_type": "code",
   "execution_count": null,
   "id": "e657f033",
   "metadata": {},
   "outputs": [],
   "source": []
  }
 ],
 "metadata": {
  "kernelspec": {
   "display_name": "Python 3",
   "language": "python",
   "name": "python3"
  },
  "language_info": {
   "codemirror_mode": {
    "name": "ipython",
    "version": 3
   },
   "file_extension": ".py",
   "mimetype": "text/x-python",
   "name": "python",
   "nbconvert_exporter": "python",
   "pygments_lexer": "ipython3",
   "version": "3.10.9"
  }
 },
 "nbformat": 4,
 "nbformat_minor": 5
}
