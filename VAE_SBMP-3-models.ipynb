{
 "cells": [
  {
   "cell_type": "code",
   "execution_count": 1,
   "id": "89d5af60",
   "metadata": {},
   "outputs": [],
   "source": [
    "import torch\n",
    "import torch.nn as nn\n",
    "import torch.optim as optim\n",
    "from torch.autograd import Variable\n",
    "import math\n",
    "import matplotlib.pyplot as plt\n",
    "import pandas as pd\n",
    "from torch.utils.data import DataLoader\n",
    "from torch.optim import Adam\n",
    "\n",
    "device = torch.device(\"cuda\" if torch.cuda.is_available() else \"cpu\")"
   ]
  },
  {
   "cell_type": "markdown",
   "id": "09caad23",
   "metadata": {},
   "source": [
    "# Loading a test case with some data"
   ]
  },
  {
   "cell_type": "markdown",
   "id": "d1992420",
   "metadata": {},
   "source": [
    "First we define a collision checker function."
   ]
  },
  {
   "cell_type": "code",
   "execution_count": 2,
   "id": "d6f5c62a",
   "metadata": {},
   "outputs": [],
   "source": [
    "def is_collision_free(x,y):\n",
    "    columns = []\n",
    "    columns.append(((-math.pi/2 - 0.2, -math.pi/2 + 0.2),(-0.1,0.1)))\n",
    "    columns.append(((-0.2, 0.2),(-1.1,-0.9)))\n",
    "    columns.append(((math.pi/2 - 0.2, math.pi/2 + 0.2),(0.9,1.1)))\n",
    "    if x <= -math.pi or x > math.pi or y <= -math.pi or y > math.pi:\n",
    "        raise Exception(\"point needs to be in [-pi,pi] x [-pi,pi]\")\n",
    "    for column in columns:\n",
    "        in_x_col = x >= column[0][0] and x <= column[0][1]\n",
    "        in_y_op = y > column[1][0] and y < column[1][1]\n",
    "        if in_x_col and not in_y_op:\n",
    "            return False\n",
    "    return True"
   ]
  },
  {
   "cell_type": "markdown",
   "id": "bbc02f39",
   "metadata": {},
   "source": [
    "Now we have a look at the configuration space that this collision checker defines:"
   ]
  },
  {
   "cell_type": "code",
   "execution_count": 3,
   "id": "e7cb5bc6",
   "metadata": {},
   "outputs": [
    {
     "data": {
      "text/plain": [
       "<matplotlib.collections.PathCollection at 0x7fc778887dc0>"
      ]
     },
     "execution_count": 3,
     "metadata": {},
     "output_type": "execute_result"
    },
    {
     "data": {
      "image/png": "[encoded data removed]",
      "text/plain": [
       "<Figure size 640x480 with 1 Axes>"
      ]
     },
     "metadata": {},
     "output_type": "display_data"
    }
   ],
   "source": [
    "num_samples = 500\n",
    "\n",
    "x_values = [ math.pi * (n/num_samples) - math.pi * (1-n/num_samples) for n in range(1,num_samples+1)]\n",
    "y_values = x_values\n",
    "value_grid = []\n",
    "for y in y_values:\n",
    "    y_section = [(x,y,is_collision_free(x,y)) for x in x_values]\n",
    "    value_grid.append(y_section)\n",
    "\n",
    "x_collisions = []\n",
    "y_collisions = []\n",
    "for y_row in value_grid:\n",
    "    for entry in y_row:\n",
    "        if not entry[2]:\n",
    "            x_collisions.append(entry[0])\n",
    "            y_collisions.append(entry[1])\n",
    "plt.scatter(x_collisions, y_collisions, s =5)\n",
    "plt.scatter([-3.1415,-3.1415, 3.1415,3.1415], [-3.1415,3.1415,-3.1415,3.1415], s = 1)"
   ]
  },
  {
   "cell_type": "markdown",
   "id": "2dfecb9a",
   "metadata": {},
   "source": [
    "Now `value_grid` is a `500 x 500` list. It has one list for each of the 500 y-values. This list has 500 entries, one for each x-value and whether or not that point is in collision or not. Let's turn this into a `250000 x 3` tensor (250,000 data points, each with a x-value, a y-value, and a collision boolean)."
   ]
  },
  {
   "cell_type": "code",
   "execution_count": 4,
   "id": "0aae9fd2",
   "metadata": {},
   "outputs": [],
   "source": [
    "train_data = torch.tensor([value_grid[i][j] for i in range(500) for j in range(500)])"
   ]
  },
  {
   "cell_type": "code",
   "execution_count": 5,
   "id": "20f6fb3a",
   "metadata": {},
   "outputs": [
    {
     "data": {
      "text/plain": [
       "torch.Size([250000, 3])"
      ]
     },
     "execution_count": 5,
     "metadata": {},
     "output_type": "execute_result"
    }
   ],
   "source": [
    "train_data.shape"
   ]
  },
  {
   "cell_type": "code",
   "execution_count": 6,
   "id": "d362896c",
   "metadata": {},
   "outputs": [
    {
     "data": {
      "text/plain": [
       "tensor([-3.1290, -3.1290,  1.0000])"
      ]
     },
     "execution_count": 6,
     "metadata": {},
     "output_type": "execute_result"
    }
   ],
   "source": [
    "train_data[0] # (x-coord, y-coord, collision-free (= 1))"
   ]
  },
  {
   "cell_type": "markdown",
   "id": "77cfb67d",
   "metadata": {},
   "source": [
    "Want three models: One not considering the class of a point, one absorbing the class in the the euclidean distance, and one incorporating binary cross entropy for the class."
   ]
  },
  {
   "cell_type": "markdown",
   "id": "882dbd40",
   "metadata": {},
   "source": [
    "# Model 1\n",
    "In this model, we are not considering the class of a point in the loss function at all, just the Euclidean distance between the original and reconstructed points."
   ]
  },
  {
   "cell_type": "markdown",
   "id": "1a328baa",
   "metadata": {},
   "source": [
    " NEED TO ENSURE OUPUT IS IN $[0,2\\pi]^{\\texttt{input_dim}}$."
   ]
  },
  {
   "cell_type": "code",
   "execution_count": 7,
   "id": "ff3a8a0d",
   "metadata": {},
   "outputs": [],
   "source": [
    "class VAE1(nn.Module):\n",
    "    def __init__(self, input_dim, hidden_dim, latent_dim, device=device):\n",
    "        super(VAE1, self).__init__()\n",
    "\n",
    "        # encoder - THIS CAN BE MESSED AROUND WITH\n",
    "        self.encoder = nn.Sequential(\n",
    "            nn.Linear(input_dim, hidden_dim),\n",
    "            nn.LeakyReLU(0.2),\n",
    "            nn.Linear(hidden_dim, latent_dim),\n",
    "            nn.LeakyReLU(0.2)\n",
    "            )\n",
    "        \n",
    "        # latent mean and variance \n",
    "        self.mean_layer = nn.Linear(latent_dim, latent_dim)\n",
    "        self.logvar_layer = nn.Linear(latent_dim, latent_dim)\n",
    "        \n",
    "        # decoder - THIS CAN ALSO BE MESSED AROUND WITH\n",
    "        self.decoder = nn.Sequential(\n",
    "            nn.Linear(latent_dim, latent_dim),\n",
    "            nn.LeakyReLU(0.2),\n",
    "            nn.Linear(latent_dim, hidden_dim),\n",
    "            nn.LeakyReLU(0.2),\n",
    "            nn.Linear(hidden_dim, input_dim)\n",
    "            )\n",
    "     \n",
    "    def encode(self, x):\n",
    "        x = self.encoder(x)\n",
    "        mean, logvar = self.mean_layer(x), self.logvar_layer(x)\n",
    "        return mean, logvar\n",
    "\n",
    "    def reparameterization(self, mean, var):\n",
    "        epsilon = torch.randn_like(var).to(device)      \n",
    "        z = mean + var*epsilon\n",
    "        return z\n",
    "\n",
    "    def decode(self, x):\n",
    "        return self.decoder(x)\n",
    "\n",
    "    def forward(self, x):\n",
    "        mean, logvar = self.encode(x)\n",
    "        z = self.reparameterization(mean, logvar)\n",
    "        x_hat = self.decode(z)\n",
    "        return x_hat, mean, logvar"
   ]
  },
  {
   "cell_type": "markdown",
   "id": "b9d50b54",
   "metadata": {},
   "source": [
    "We need to modify the training data to not include whether the point is in collision or not (the third coordinate)."
   ]
  },
  {
   "cell_type": "code",
   "execution_count": 8,
   "id": "f401a8b5",
   "metadata": {},
   "outputs": [],
   "source": [
    "train_data1 = train_data[:, :2]"
   ]
  },
  {
   "cell_type": "code",
   "execution_count": 9,
   "id": "f7adb3d4",
   "metadata": {},
   "outputs": [
    {
     "data": {
      "text/plain": [
       "tensor([[-3.1290, -3.1290],\n",
       "        [-3.1165, -3.1290],\n",
       "        [-3.1039, -3.1290],\n",
       "        ...,\n",
       "        [ 3.1165,  3.1416],\n",
       "        [ 3.1290,  3.1416],\n",
       "        [ 3.1416,  3.1416]])"
      ]
     },
     "execution_count": 9,
     "metadata": {},
     "output_type": "execute_result"
    }
   ],
   "source": [
    "train_data1"
   ]
  },
  {
   "cell_type": "markdown",
   "id": "79cbc029",
   "metadata": {},
   "source": [
    "We just set up a model with $2$-dimensional input, $2$-dimensional hidden layer, and latent dimension $1$. The output of the model is the decoded point, the mean, and the log_var."
   ]
  },
  {
   "cell_type": "code",
   "execution_count": 10,
   "id": "27b0ff30",
   "metadata": {},
   "outputs": [
    {
     "data": {
      "text/plain": [
       "(tensor([-0.6441, -0.5202], grad_fn=<ViewBackward0>),\n",
       " tensor([0.5086], grad_fn=<ViewBackward0>),\n",
       " tensor([-0.0140], grad_fn=<ViewBackward0>))"
      ]
     },
     "execution_count": 10,
     "metadata": {},
     "output_type": "execute_result"
    }
   ],
   "source": [
    "model1 = VAE1(2,2,1)\n",
    "model1(train_data1[0])"
   ]
  },
  {
   "cell_type": "markdown",
   "id": "e3f527c8",
   "metadata": {},
   "source": [
    "Next we define the loss function. Here, the loss function is simple: just the Euclidean distance between the encoded and the unencoded point (and the KL divergence). We could also add weight parameters to control how much the KL divergence contributes versus the Euclidean distance."
   ]
  },
  {
   "cell_type": "code",
   "execution_count": 11,
   "id": "c13c374f",
   "metadata": {},
   "outputs": [],
   "source": [
    "def loss_function1(x, x_hat, mean, log_var, alpha = 1): # alpha controls weight of KL-Div loss.\n",
    "    \n",
    "    # Euclidean reconstruction loss\n",
    "    dist = torch.sqrt(torch.sum((x_hat - x)**2)) # Euclidean distance\n",
    "    reconstruction_loss = dist\n",
    "    \n",
    "    # KL divergence loss\n",
    "    KLD = -0.5 * torch.sum(1 + log_var - mean.pow(2) - log_var.exp())\n",
    "\n",
    "    #return reconstruction_loss + KLD\n",
    "    return reconstruction_loss + alpha*KLD"
   ]
  },
  {
   "cell_type": "markdown",
   "id": "076c62bc",
   "metadata": {},
   "source": [
    "### Training model 1"
   ]
  },
  {
   "cell_type": "code",
   "execution_count": 12,
   "id": "0a88a184",
   "metadata": {},
   "outputs": [],
   "source": [
    "losses = []"
   ]
  },
  {
   "cell_type": "code",
   "execution_count": 23,
   "id": "bfaab90e",
   "metadata": {},
   "outputs": [
    {
     "name": "stdout",
     "output_type": "stream",
     "text": [
      "0 1 2 3 4 5 6 7 8 9 10 11 12 13 14 15 16 17 18 19 20 21 22 23 24 25 26 27 28 29 30 31 32 33 34 35 36 37 38 39 40 41 42 43 44 45 46 47 48 49 "
     ]
    }
   ],
   "source": [
    "model = model1\n",
    "optimizer = torch.optim.Adam(model1.parameters(), lr=1e-5)\n",
    "epochs = 50\n",
    "batch_size = 1000 # for minibatches\n",
    "    \n",
    "model.train()\n",
    "\n",
    "for epoch in range(epochs):\n",
    "    print(epoch, end=' ')\n",
    "    # build a data loader for this epoch\n",
    "    loader = DataLoader(dataset = train_data1, batch_size = batch_size, shuffle = True)\n",
    "    \n",
    "    # loop over the batches from the loader\n",
    "    for batch in loader:\n",
    "        batch = batch.to(device)\n",
    "        # reset optimizer's gradients\n",
    "        optimizer.zero_grad()\n",
    "        # run the model on all inputs\n",
    "        preds = model(batch)\n",
    "        # rename the different parts of the prediction\n",
    "        x_hats, means, log_vars = preds[0], preds[1], preds[2]\n",
    "        # compute the loss function on the predictions\n",
    "        loss = loss_function1(batch, x_hats, means, log_vars, alpha = 0.01)\n",
    "        losses.append(loss.item())\n",
    "        # compute the gradient of the loss function\n",
    "        loss.backward()\n",
    "        # update the parameters based on the gradient\n",
    "        optimizer.step()\n",
    "    # Uncomment this to check in on the progress each epoch\n",
    "    #epoch_preds = model(train_data1)\n",
    "    #epoch_x_hats, epoch_means, epoch_log_vars = epoch_preds[0], epoch_preds[1], epoch_preds[2]\n",
    "    #print('Epoch: ' + str(epoch) + '\\t Loss: ' + str(loss_function1(train_data1, epoch_x_hats, epoch_means, epoch_log_vars)))\n",
    "    #losses.append(loss_function1(train_data1, epoch_x_hats, epoch_means, epoch_log_vars).item())"
   ]
  },
  {
   "cell_type": "code",
   "execution_count": 24,
   "id": "ca36eee5",
   "metadata": {},
   "outputs": [
    {
     "data": {
      "text/plain": [
       "[<matplotlib.lines.Line2D at 0x7fc75ce601c0>]"
      ]
     },
     "execution_count": 24,
     "metadata": {},
     "output_type": "execute_result"
    },
    {
     "data": {
      "image/png": "[encoded data removed]",
      "text/plain": [
       "<Figure size 640x480 with 1 Axes>"
      ]
     },
     "metadata": {},
     "output_type": "display_data"
    }
   ],
   "source": [
    "plt.plot(losses)"
   ]
  },
  {
   "cell_type": "markdown",
   "id": "dcb964cd",
   "metadata": {},
   "source": [
    "Let's look at how the model encodes the training data. We'll just plot the means of the embeddings."
   ]
  },
  {
   "cell_type": "code",
   "execution_count": 64,
   "id": "cfa1931c",
   "metadata": {},
   "outputs": [
    {
     "data": {
      "text/plain": [
       "(tensor([ 0.1235,  0.1234,  0.1234,  ..., -0.3561, -0.3570, -0.3580]),\n",
       " tensor([7.2107e-05, 7.2113e-05, 7.2119e-05,  ..., 1.2102e-04, 1.2112e-04,\n",
       "         1.2121e-04]))"
      ]
     },
     "execution_count": 64,
     "metadata": {},
     "output_type": "execute_result"
    }
   ],
   "source": [
    "embeds = model.encode(train_data1)\n",
    "embed_means = embeds[0].detach().view(250000)\n",
    "embed_log_vars = embeds[1].detach().view(250000)\n",
    "embed_means, embed_log_vars"
   ]
  },
  {
   "cell_type": "code",
   "execution_count": 62,
   "id": "03cfefa8",
   "metadata": {},
   "outputs": [
    {
     "data": {
      "text/plain": [
       "<matplotlib.collections.PathCollection at 0x7fc742de28c0>"
      ]
     },
     "execution_count": 62,
     "metadata": {},
     "output_type": "execute_result"
    },
    {
     "data": {
      "image/png": "[encoded data removed]",
      "text/plain": [
       "<Figure size 640x480 with 1 Axes>"
      ]
     },
     "metadata": {},
     "output_type": "display_data"
    }
   ],
   "source": [
    "plt.scatter(embed_means, torch.zeros_like(embed_means), c = train_data[:,2], alpha = 0.01, s = 5)"
   ]
  },
  {
   "cell_type": "markdown",
   "id": "ffd6e5f5",
   "metadata": {},
   "source": [
    "Doesn't look like good separation between collision points and non-collision points like we would have hoped."
   ]
  },
  {
   "cell_type": "markdown",
   "id": "c2c6d848",
   "metadata": {},
   "source": [
    "Just to remind ourselves, let's look at the configuration space."
   ]
  },
  {
   "cell_type": "code",
   "execution_count": 57,
   "id": "7aee622d",
   "metadata": {},
   "outputs": [
    {
     "data": {
      "text/plain": [
       "<matplotlib.collections.PathCollection at 0x7fc742de0a60>"
      ]
     },
     "execution_count": 57,
     "metadata": {},
     "output_type": "execute_result"
    },
    {
     "data": {
      "image/png": "[encoded data removed]",
      "text/plain": [
       "<Figure size 640x480 with 1 Axes>"
      ]
     },
     "metadata": {},
     "output_type": "display_data"
    }
   ],
   "source": [
    "plt.scatter(train_data[:,0], train_data[:,1], c = train_data[:,2], s = 0.1)"
   ]
  },
  {
   "cell_type": "markdown",
   "id": "69ba1fe1",
   "metadata": {},
   "source": [
    "Now let's check how the decodings of the means look in the ambient space."
   ]
  },
  {
   "cell_type": "code",
   "execution_count": 58,
   "id": "d55dfaa2",
   "metadata": {},
   "outputs": [
    {
     "data": {
      "text/plain": [
       "tensor([[-2.5722, -2.9344],\n",
       "        [-2.5713, -2.9342],\n",
       "        [-2.5703, -2.9340],\n",
       "        ...,\n",
       "        [ 4.2914,  2.5516],\n",
       "        [ 4.3057,  2.5544],\n",
       "        [ 4.3199,  2.5573]])"
      ]
     },
     "execution_count": 58,
     "metadata": {},
     "output_type": "execute_result"
    }
   ],
   "source": [
    "decodes = model.decode(embeds[0]).detach()\n",
    "decodes"
   ]
  },
  {
   "cell_type": "markdown",
   "id": "36fcb2df",
   "metadata": {},
   "source": [
    "This looks peculiar...not sure what is going on."
   ]
  },
  {
   "cell_type": "code",
   "execution_count": 63,
   "id": "46c1d2ad",
   "metadata": {},
   "outputs": [
    {
     "data": {
      "text/plain": [
       "<matplotlib.collections.PathCollection at 0x7fc764cc3520>"
      ]
     },
     "execution_count": 63,
     "metadata": {},
     "output_type": "execute_result"
    },
    {
     "data": {
      "image/png": "[encoded data removed]",
      "text/plain": [
       "<Figure size 640x480 with 1 Axes>"
      ]
     },
     "metadata": {},
     "output_type": "display_data"
    }
   ],
   "source": [
    "plt.scatter(decodes[:,0], decodes[:,1], c = train_data[:,2], alpha = 0.01, s = 5)"
   ]
  },
  {
   "cell_type": "markdown",
   "id": "bd9f7030",
   "metadata": {},
   "source": [
    "# Model 2\n",
    "Absorbing the class loss into the Euclidean norm"
   ]
  },
  {
   "cell_type": "code",
   "execution_count": 65,
   "id": "8013e5a7",
   "metadata": {},
   "outputs": [],
   "source": [
    "class VAE2(nn.Module):\n",
    "    def __init__(self, input_dim, hidden_dim, latent_dim, device=device):\n",
    "        super(VAE2, self).__init__()\n",
    "\n",
    "        # encoder - THIS CAN BE MESSED AROUND WITH\n",
    "        self.encoder = nn.Sequential(\n",
    "            nn.Linear(input_dim, hidden_dim),\n",
    "            nn.LeakyReLU(0.2),\n",
    "            nn.Linear(hidden_dim, latent_dim),\n",
    "            nn.LeakyReLU(0.2)\n",
    "            )\n",
    "        \n",
    "        # latent mean and variance \n",
    "        self.mean_layer = nn.Linear(latent_dim, latent_dim)\n",
    "        self.logvar_layer = nn.Linear(latent_dim, latent_dim)\n",
    "        \n",
    "        # decoder - THIS CAN ALSO BE MESSED AROUND WITH\n",
    "        self.decoder = nn.Sequential(\n",
    "            nn.Linear(latent_dim, latent_dim),\n",
    "            nn.LeakyReLU(0.2),\n",
    "            nn.Linear(latent_dim, hidden_dim),\n",
    "            nn.LeakyReLU(0.2),\n",
    "            nn.Linear(hidden_dim, input_dim)\n",
    "            )\n",
    "     \n",
    "    def encode(self, x):\n",
    "        x = self.encoder(x)\n",
    "        mean, logvar = self.mean_layer(x), self.logvar_layer(x)\n",
    "        return mean, logvar\n",
    "\n",
    "    def reparameterization(self, mean, var):\n",
    "        epsilon = torch.randn_like(var).to(device)      \n",
    "        z = mean + var*epsilon\n",
    "        return z\n",
    "\n",
    "    def decode(self, x):\n",
    "        return self.decoder(x)\n",
    "\n",
    "    def forward(self, x):\n",
    "        mean, logvar = self.encode(x)\n",
    "        z = self.reparameterization(mean, logvar)\n",
    "        x_hat = self.decode(z)\n",
    "        x_hat[-1] = torch.sigmoid(x_hat[-1]) # now we want to make sure the third coordinate is between 0 and 1.\n",
    "        return x_hat, mean, logvar"
   ]
  },
  {
   "cell_type": "code",
   "execution_count": 66,
   "id": "5dbbba90",
   "metadata": {},
   "outputs": [],
   "source": [
    "model2 = VAE2(3,2,1)"
   ]
  },
  {
   "cell_type": "code",
   "execution_count": 67,
   "id": "89fba637",
   "metadata": {},
   "outputs": [
    {
     "data": {
      "text/plain": [
       "(tensor([0.2049, 0.4366, 0.3189], grad_fn=<AsStridedBackward0>),\n",
       " tensor([-0.0004], grad_fn=<ViewBackward0>),\n",
       " tensor([0.3910], grad_fn=<ViewBackward0>))"
      ]
     },
     "execution_count": 67,
     "metadata": {},
     "output_type": "execute_result"
    }
   ],
   "source": [
    "model2(train_data[20])"
   ]
  },
  {
   "cell_type": "markdown",
   "id": "06ea2380",
   "metadata": {},
   "source": [
    "The code for the loss function is actually identical to before."
   ]
  },
  {
   "cell_type": "code",
   "execution_count": 68,
   "id": "cda61a14",
   "metadata": {},
   "outputs": [],
   "source": [
    "def loss_function2(x, x_hat, mean, log_var, alpha = 1):\n",
    "    \n",
    "    # Euclidean reconstruction loss\n",
    "    dist = torch.sqrt(torch.sum((x_hat - x)**2)) # Euclidean distance\n",
    "    reconstruction_loss = dist\n",
    "    \n",
    "    # KL divergence loss\n",
    "    KLD = -0.5 * torch.sum(1 + log_var - mean.pow(2) - log_var.exp())\n",
    "\n",
    "    #return reconstruction_loss + KLD\n",
    "    return reconstruction_loss + alpha*KLD"
   ]
  },
  {
   "cell_type": "markdown",
   "id": "536c258d",
   "metadata": {},
   "source": [
    "### Training model 2"
   ]
  },
  {
   "cell_type": "code",
   "execution_count": 69,
   "id": "66746115",
   "metadata": {},
   "outputs": [],
   "source": [
    "losses = []"
   ]
  },
  {
   "cell_type": "code",
   "execution_count": 74,
   "id": "7be6a0f3",
   "metadata": {},
   "outputs": [
    {
     "name": "stdout",
     "output_type": "stream",
     "text": [
      "0 1 2 3 4 5 6 7 8 9 10 11 12 13 14 15 16 17 18 19 20 21 22 23 24 25 26 27 28 29 30 31 32 33 34 35 36 37 38 39 40 41 42 43 44 45 46 47 48 49 "
     ]
    }
   ],
   "source": [
    "model = model2\n",
    "optimizer = torch.optim.Adam(model2.parameters(), lr=1e-1)\n",
    "epochs = 50\n",
    "batch_size = 1000 # for minibatches\n",
    "    \n",
    "model.train()\n",
    "\n",
    "for epoch in range(epochs):\n",
    "    print(epoch, end=' ')\n",
    "    # build a data loader for this epoch\n",
    "    loader = DataLoader(dataset = train_data, batch_size = batch_size, shuffle = True)\n",
    "    \n",
    "    # loop over the batches from the loader\n",
    "    for batch in loader:\n",
    "        batch = batch.to(device)\n",
    "        # reset optimizer's gradients\n",
    "        optimizer.zero_grad()\n",
    "        # run the model on all inputs\n",
    "        preds = model(batch)\n",
    "        # rename the different parts of the prediction\n",
    "        x_hats, means, log_vars = preds[0], preds[1], preds[2]\n",
    "        # compute the loss function on the predictions\n",
    "        loss = loss_function2(batch, x_hats, means, log_vars, alpha = 0.01)\n",
    "        losses.append(loss.item())\n",
    "        # compute the gradient of the loss function\n",
    "        loss.backward()\n",
    "        # update the parameters based on the gradient\n",
    "        optimizer.step()\n",
    "    # Uncomment this to check in on the progress each epoch\n",
    "    #epoch_preds = model(train_data1)\n",
    "    #epoch_x_hats, epoch_means, epoch_log_vars = epoch_preds[0], epoch_preds[1], epoch_preds[2]\n",
    "    #print('Epoch: ' + str(epoch) + '\\t Loss: ' + str(loss_function1(train_data1, epoch_x_hats, epoch_means, epoch_log_vars)))\n",
    "    #losses.append(loss_function1(train_data1, epoch_x_hats, epoch_means, epoch_log_vars).item())"
   ]
  },
  {
   "cell_type": "code",
   "execution_count": 75,
   "id": "46da473d",
   "metadata": {},
   "outputs": [
    {
     "data": {
      "text/plain": [
       "[<matplotlib.lines.Line2D at 0x7fc75b3449a0>]"
      ]
     },
     "execution_count": 75,
     "metadata": {},
     "output_type": "execute_result"
    },
    {
     "data": {
      "image/png": "[encoded data removed]",
      "text/plain": [
       "<Figure size 640x480 with 1 Axes>"
      ]
     },
     "metadata": {},
     "output_type": "display_data"
    }
   ],
   "source": [
    "plt.plot(losses)"
   ]
  },
  {
   "cell_type": "markdown",
   "id": "209bb4e5",
   "metadata": {},
   "source": [
    "Let's look at how the model encodes the training data. We'll just plot the means of the embeddings."
   ]
  },
  {
   "cell_type": "code",
   "execution_count": 77,
   "id": "2fec451a",
   "metadata": {},
   "outputs": [
    {
     "data": {
      "text/plain": [
       "(tensor([-0.3772, -0.3767, -0.3761,  ...,  0.0791,  0.0796,  0.0802]),\n",
       " tensor([-0.0170, -0.0170, -0.0170,  ..., -0.0112, -0.0112, -0.0112]))"
      ]
     },
     "execution_count": 77,
     "metadata": {},
     "output_type": "execute_result"
    }
   ],
   "source": [
    "embeds = model.encode(train_data)\n",
    "embed_means = embeds[0].detach().view(250000)\n",
    "embed_log_vars = embeds[1].detach().view(250000)\n",
    "embed_means, embed_log_vars"
   ]
  },
  {
   "cell_type": "code",
   "execution_count": 78,
   "id": "eab4b153",
   "metadata": {},
   "outputs": [
    {
     "data": {
      "text/plain": [
       "<matplotlib.collections.PathCollection at 0x7fc73f20ada0>"
      ]
     },
     "execution_count": 78,
     "metadata": {},
     "output_type": "execute_result"
    },
    {
     "data": {
      "image/png": "[encoded data removed]",
      "text/plain": [
       "<Figure size 640x480 with 1 Axes>"
      ]
     },
     "metadata": {},
     "output_type": "display_data"
    }
   ],
   "source": [
    "plt.scatter(embed_means, torch.zeros_like(embed_means), c = train_data[:,2], alpha = 0.01, s = 5)"
   ]
  },
  {
   "cell_type": "markdown",
   "id": "07bc7e85",
   "metadata": {},
   "source": [
    "Doesn't look like good separation between collision points and non-collision points like we would have hoped."
   ]
  },
  {
   "cell_type": "markdown",
   "id": "c6bcf214",
   "metadata": {},
   "source": [
    "Now let's check how the decodings of the means look in the ambient space."
   ]
  },
  {
   "cell_type": "code",
   "execution_count": 79,
   "id": "5ae80158",
   "metadata": {},
   "outputs": [
    {
     "data": {
      "text/plain": [
       "tensor([[-2.5653, -2.7470,  0.7678],\n",
       "        [-2.5637, -2.7459,  0.7678],\n",
       "        [-2.5620, -2.7448,  0.7678],\n",
       "        ...,\n",
       "        [ 1.4673,  0.8545,  0.8082],\n",
       "        [ 1.4631,  0.8569,  0.8082],\n",
       "        [ 1.4589,  0.8593,  0.8082]])"
      ]
     },
     "execution_count": 79,
     "metadata": {},
     "output_type": "execute_result"
    }
   ],
   "source": [
    "decodes = model.decode(embeds[0]).detach()\n",
    "decodes"
   ]
  },
  {
   "cell_type": "markdown",
   "id": "cb2733db",
   "metadata": {},
   "source": [
    "Still weird looking...also I'm not sure why the colorbar looks al"
   ]
  },
  {
   "cell_type": "code",
   "execution_count": 86,
   "id": "9810ebe7",
   "metadata": {},
   "outputs": [
    {
     "data": {
      "text/plain": [
       "<matplotlib.colorbar.Colorbar at 0x7fc730fb6bc0>"
      ]
     },
     "execution_count": 86,
     "metadata": {},
     "output_type": "execute_result"
    },
    {
     "data": {
      "image/png": "[encoded data removed]",
      "text/plain": [
       "<Figure size 640x480 with 2 Axes>"
      ]
     },
     "metadata": {},
     "output_type": "display_data"
    }
   ],
   "source": [
    "plt.scatter(decodes[:,0], decodes[:,1], c = decodes[:,2], alpha = 0.01, s = 5)\n",
    "plt.colorbar()"
   ]
  },
  {
   "cell_type": "markdown",
   "id": "4397c2b2",
   "metadata": {},
   "source": [
    "NEXT PART IS INCOMPLETE!"
   ]
  },
  {
   "cell_type": "markdown",
   "id": "8f087d6a",
   "metadata": {},
   "source": [
    "# Model 3\n",
    "A separate binary cross entropy loss part for the class"
   ]
  },
  {
   "cell_type": "code",
   "execution_count": null,
   "id": "b9bed6f7",
   "metadata": {},
   "outputs": [],
   "source": [
    "class VAE3(nn.Module):\n",
    "    def __init__(self, input_dim, hidden_dim, latent_dim, device=device):\n",
    "        super(VAE3, self).__init__()\n",
    "\n",
    "        # encoder - THIS CAN BE MESSED AROUND WITH\n",
    "        self.encoder = nn.Sequential(\n",
    "            nn.Linear(input_dim, hidden_dim),\n",
    "            nn.LeakyReLU(0.2),\n",
    "            nn.Linear(hidden_dim, latent_dim),\n",
    "            nn.LeakyReLU(0.2)\n",
    "            )\n",
    "        \n",
    "        # latent mean and variance \n",
    "        self.mean_layer = nn.Linear(latent_dim, latent_dim)\n",
    "        self.logvar_layer = nn.Linear(latent_dim, latent_dim)\n",
    "        \n",
    "        # decoder - THIS CAN ALSO BE MESSED AROUND WITH\n",
    "        self.point_decoder = nn.Sequential(\n",
    "            nn.Linear(latent_dim, latent_dim),\n",
    "            nn.LeakyReLU(0.2),\n",
    "            nn.Linear(latent_dim, hidden_dim),\n",
    "            nn.LeakyReLU(0.2),\n",
    "            nn.Linear(hidden_dim, input_dim)\n",
    "            nn.Sigmoid()\n",
    "            )\n",
    "        \n",
    "        # CLASS decoder - THIS CAN ALSO BE MESSED AROUND WITH. This is to decode (predict) whether the pt is in collision or not.\n",
    "        self.label_decoder = nn.Sequential(\n",
    "            nn.Linear(latent_dim, latent_dim),\n",
    "            nn.LeakyReLU(0.2),\n",
    "            nn.Linear(latent_dim, hidden_dim),\n",
    "            nn.LeakyReLU(0.2),\n",
    "            nn.Linear(hidden_dim, 1), # just decoding 1 thing here: collision or not\n",
    "            nn.Sigmoid() # make the prediction a probability\n",
    "            )\n",
    "     \n",
    "    def encode(self, x):\n",
    "        x = self.encoder(x)\n",
    "        mean, logvar = self.mean_layer(x), self.logvar_layer(x)\n",
    "        return mean, logvar\n",
    "\n",
    "    def reparameterization(self, mean, var):\n",
    "        epsilon = torch.randn_like(var).to(device)      \n",
    "        z = mean + var*epsilon\n",
    "        return z\n",
    "\n",
    "    #def decode(self, x):\n",
    "    #    return self.decoder(x)\n",
    "\n",
    "    def forward(self, x):\n",
    "        mean, logvar = self.encode(x)\n",
    "        z = self.reparameterization(mean, logvar)\n",
    "        #x_hat = self.decode(z)\n",
    "        x_hat = self.point_decoder(z)\n",
    "        x_hat[2] = sigmoid(x_hat[2])\n",
    "        x_hat[0] = (sigmoid(x_hat[0]) - 0.5)*2*math.pi\n",
    "        x_hat[1] = (sigmoid(x_hat[1]) - 0.5)*2*math.pi\n",
    "        #label_hat = self.label_decoder(z)\n",
    "        return x_hat, mean, logvar"
   ]
  },
  {
   "cell_type": "code",
   "execution_count": null,
   "id": "c300909c",
   "metadata": {},
   "outputs": [],
   "source": [
    "def loss_function3(x, x_hat, mean, log_var, alpha = 1, beta = 1):\n",
    "    # alpha and beta are parameters to determine how much to weight Euclidean distance and correct classification\n",
    "    \n",
    "    for i in range(len(x_hat)):\n",
    "        if i < len(x_hat) - 1:\n",
    "            if x_hat[i] > math.pi or x_hat[i] <= -math.pi:\n",
    "                return 1e6\n",
    "        else:\n",
    "            if x_hat[i] < 0 or x_hat[i] > 1:\n",
    "                return 1e6\n",
    "    \n",
    "    # Euclidean reconstruction loss\n",
    "    dist = torch.sqrt(torch.sum((x_hat - x)**2)) # Euclidean distance\n",
    "    reconstruction_loss = alpha*dist\n",
    "    \n",
    "    # BCE label loss\n",
    "    #label = is_collision_free(x) # or label(x)\n",
    "    #pred = COLLISIONCHECKER(x_hat)\n",
    "    \n",
    "    # need probabilities that it is collision and not collision. So we need a collision predictor\n",
    "    # IDEA: make the COLLISIONCHECKER function a neural network classifier so that we can backprop.\n",
    "    \n",
    "    #label_loss = beta*nn.functional.binary_cross_entropy(label, label_hat, reduction='sum')\n",
    "    \n",
    "    # KL divergence loss\n",
    "    KLD = -0.5 * torch.sum(1 + log_var - mean.pow(2) - log_var.exp())\n",
    "\n",
    "    #return reconstruction_loss + label_loss + KLD\n",
    "    return torch.tensor(reconstruction_loss + KLD)"
   ]
  },
  {
   "cell_type": "code",
   "execution_count": null,
   "id": "a1cbccc7",
   "metadata": {},
   "outputs": [],
   "source": [
    "m = torch.tensor(2)*torch.pi*(nn.Sigmoid() - torch.tensor(0.5))"
   ]
  },
  {
   "cell_type": "code",
   "execution_count": null,
   "id": "e73c2277",
   "metadata": {},
   "outputs": [],
   "source": [
    "m(torch.tensor(3))"
   ]
  },
  {
   "cell_type": "code",
   "execution_count": null,
   "id": "13feb9d8",
   "metadata": {},
   "outputs": [],
   "source": [
    "torch.pi"
   ]
  },
  {
   "cell_type": "code",
   "execution_count": null,
   "id": "56bf4978",
   "metadata": {},
   "outputs": [],
   "source": []
  }
 ],
 "metadata": {
  "kernelspec": {
   "display_name": "Python 3",
   "language": "python",
   "name": "python3"
  },
  "language_info": {
   "codemirror_mode": {
    "name": "ipython",
    "version": 3
   },
   "file_extension": ".py",
   "mimetype": "text/x-python",
   "name": "python",
   "nbconvert_exporter": "python",
   "pygments_lexer": "ipython3",
   "version": "3.10.9"
  }
 },
 "nbformat": 4,
 "nbformat_minor": 5
}
